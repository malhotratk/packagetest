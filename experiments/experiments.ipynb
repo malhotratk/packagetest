{
 "cells": [
  {
   "cell_type": "code",
   "execution_count": 12,
   "metadata": {},
   "outputs": [],
   "source": [
    "from pymongo.mongo_client import MongoClient\n",
    "import urllib.parse\n",
    "\n",
    "username = urllib.parse.quote_plus('malhotratarun06')\n",
    "password = urllib.parse.quote_plus('July3009@')\n",
    "\n",
    "#Creating a new client and connecting to server\n",
    "client = MongoClient(\"mongodb+srv://%s:%s@cluster0.0cj7x.mongodb.net/?retryWrites=true&w=majority&appname=Cluster0\" % (username, password))"
   ]
  },
  {
   "cell_type": "code",
   "execution_count": 19,
   "metadata": {},
   "outputs": [],
   "source": [
    "#Create a DB\n",
    "database = client[\"dbmongo\"]"
   ]
  },
  {
   "cell_type": "code",
   "execution_count": 20,
   "metadata": {},
   "outputs": [],
   "source": [
    "#Create a collection\n",
    "collection = database[\"collectionmongo\"]"
   ]
  },
  {
   "cell_type": "code",
   "execution_count": 21,
   "metadata": {},
   "outputs": [
    {
     "data": {
      "text/plain": [
       "{'name': 'Tarun Malhotra', 'age': 21, 'city': 'Delhi'}"
      ]
     },
     "execution_count": 21,
     "metadata": {},
     "output_type": "execute_result"
    }
   ],
   "source": [
    "#Add a document/data to the collection\n",
    "data = {\"name\": \"Tarun Malhotra\", \"age\": 21, \"city\": \"Delhi\"}\n",
    "data"
   ]
  },
  {
   "cell_type": "code",
   "execution_count": 22,
   "metadata": {},
   "outputs": [
    {
     "data": {
      "text/plain": [
       "InsertOneResult(ObjectId('66d75a3ba8b0433573e3c490'), acknowledged=True)"
      ]
     },
     "execution_count": 22,
     "metadata": {},
     "output_type": "execute_result"
    }
   ],
   "source": [
    "collection.insert_one(data) #inserting data into collection"
   ]
  },
  {
   "cell_type": "code",
   "execution_count": 29,
   "metadata": {},
   "outputs": [
    {
     "data": {
      "text/plain": [
       "InsertManyResult([ObjectId('66d77294a8b0433573e3c494'), ObjectId('66d77294a8b0433573e3c495'), ObjectId('66d77294a8b0433573e3c496'), ObjectId('66d77294a8b0433573e3c497')], acknowledged=True)"
      ]
     },
     "execution_count": 29,
     "metadata": {},
     "output_type": "execute_result"
    }
   ],
   "source": [
    "collection.insert_many(\n",
    "    [\n",
    "        {\"name\": \"Aman\", \"age\": 20, \"city\": \"Delhi\"},\n",
    "        {\"name\": \"Rahul\", \"age\": 22, \"city\": \"Delhi\"},\n",
    "        {\"name\": \"Rohit\", \"age\": 23, \"city\": \"Delhi\"},\n",
    "        {\"name\": \"Amit\", \"age\": 24, \"city\": \"Delhi\"}\n",
    "    ]\n",
    ")"
   ]
  },
  {
   "cell_type": "code",
   "execution_count": 23,
   "metadata": {},
   "outputs": [
    {
     "data": {
      "text/plain": [
       "{'_id': ObjectId('66d75a3ba8b0433573e3c490'),\n",
       " 'name': 'Tarun Malhotra',\n",
       " 'age': 21,\n",
       " 'city': 'Delhi'}"
      ]
     },
     "execution_count": 23,
     "metadata": {},
     "output_type": "execute_result"
    }
   ],
   "source": [
    "collection.find_one() #finding data from collection"
   ]
  },
  {
   "cell_type": "code",
   "execution_count": 24,
   "metadata": {},
   "outputs": [],
   "source": [
    "records = collection.find() #finding all data from collection"
   ]
  },
  {
   "cell_type": "code",
   "execution_count": 25,
   "metadata": {},
   "outputs": [
    {
     "data": {
      "text/plain": [
       "<pymongo.cursor.Cursor at 0x21c57df2b90>"
      ]
     },
     "execution_count": 25,
     "metadata": {},
     "output_type": "execute_result"
    }
   ],
   "source": [
    "records #object"
   ]
  },
  {
   "cell_type": "code",
   "execution_count": 26,
   "metadata": {},
   "outputs": [
    {
     "name": "stdout",
     "output_type": "stream",
     "text": [
      "{'_id': ObjectId('66d75a3ba8b0433573e3c490'), 'name': 'Tarun Malhotra', 'age': 21, 'city': 'Delhi'}\n"
     ]
    }
   ],
   "source": [
    "records = list(collection.find()) #finding all data from collection and printing it\n",
    "for r in records:\n",
    "    print(r)"
   ]
  },
  {
   "cell_type": "code",
   "execution_count": 27,
   "metadata": {},
   "outputs": [
    {
     "data": {
      "text/plain": [
       "InsertManyResult([ObjectId('66d760a6a8b0433573e3c491'), ObjectId('66d760a6a8b0433573e3c492'), ObjectId('66d760a6a8b0433573e3c493')], acknowledged=True)"
      ]
     },
     "execution_count": 27,
     "metadata": {},
     "output_type": "execute_result"
    }
   ],
   "source": [
    "collection.insert_many(\n",
    "    [\n",
    "        {\"name\": \"Aman\", \"age\": 22, \"city\": \"Delhi\"},\n",
    "        {\"name\": \"Amit\", \"age\": 23, \"city\": \"Delhi\"},\n",
    "        {\"name\": \"Ankit\", \"age\": 24, \"city\": \"Delhi\"},\n",
    "    ]\n",
    ")"
   ]
  },
  {
   "cell_type": "code",
   "execution_count": 28,
   "metadata": {},
   "outputs": [],
   "source": [
    "#Create CRUD operations class\n",
    "import pandas as pd\n",
    "import json\n",
    "\n",
    "class mongo_crud_operations:\n",
    "    def __init__(self, client_url: str, database_name:str=None, collection_name:str=None):\n",
    "        self.client_url = client_url\n",
    "        self.database_name = database_name\n",
    "        self.collection_name = collection_name\n",
    "        \n",
    "    def create_client(self):\n",
    "        client = MongoClient(self.client_url)\n",
    "        return client\n",
    "    \n",
    "    def create_database(self):\n",
    "        client = self.create_client()\n",
    "        db = client[self.database_name]\n",
    "        return db\n",
    "    \n",
    "    def create_collection(self):\n",
    "        db = self.create_database()\n",
    "        collection = db[self.collection_name]\n",
    "        return collection\n",
    "    \n",
    "    def insert_record(self, collection_name:str, data):\n",
    "        if type(data) == list:\n",
    "            for d in data:\n",
    "                if type(d) != dict:\n",
    "                    raise ValueError(\"Data should be in dictionary format\")\n",
    "            collection = self.create_collection()\n",
    "            collection.insert_many(data)\n",
    "            \n",
    "        elif type(data) == dict:\n",
    "            collection = self.create_collection()\n",
    "            collection.insert_one(data)\n",
    "                \n",
    "        else:\n",
    "            raise ValueError(\"Data should be in dictionary format\")\n",
    "        \n",
    "    def find_all_records(self, collection_name:str):\n",
    "        records = list(collection_name.find())\n",
    "        for r in records:\n",
    "            print(r)\n",
    "    \n",
    "    def find_record(self, collection_name:str, query:dict):\n",
    "        records = list(collection_name.find(query))\n",
    "        for r in records:\n",
    "            print(r)    \n",
    "    \n",
    "    def insert_in_bulk(self, datafile:str, collection_name:str):\n",
    "        self.path = datafile\n",
    "        \n",
    "        if self.path.endswith(\".json\"):\n",
    "            with open(self.path, \"r\") as file:\n",
    "                data = json.load(file)\n",
    "                \n",
    "        elif self.path.endswith(\".csv\"):\n",
    "            data = pd.read_csv(self.path, encoding='utf-8')\n",
    "        \n",
    "        elif self.path.endswith(\".xlsx\"):\n",
    "            data = pd.read_excel(self.path, encoding='utf-8')\n",
    "            \n",
    "                \n",
    "        datajson = json.loads(data.to_json(orient='records'))\n",
    "        collection = self.create_collection(collection_name)\n",
    "        collection.insert_many(datajson)\n",
    "                \n",
    "    \n"
   ]
  },
  {
   "cell_type": "code",
   "execution_count": 30,
   "metadata": {},
   "outputs": [],
   "source": [
    "client_url = \"mongodb+srv://%s:%s@cluster0.0cj7x.mongodb.net/?retryWrites=true&w=majority&appname=Cluster0\" % (username, password)\n",
    "database_name = \"5SeptDB\"\n",
    "collection_name = \"5SeptCollection\""
   ]
  },
  {
   "cell_type": "code",
   "execution_count": 31,
   "metadata": {},
   "outputs": [],
   "source": [
    "mongo = mongo_crud_operations(client_url, database_name, collection_name)"
   ]
  },
  {
   "cell_type": "code",
   "execution_count": 32,
   "metadata": {},
   "outputs": [
    {
     "ename": "TypeError",
     "evalue": "mongo_crud_operations.create_collection() takes 1 positional argument but 2 were given",
     "output_type": "error",
     "traceback": [
      "\u001b[1;31m---------------------------------------------------------------------------\u001b[0m",
      "\u001b[1;31mTypeError\u001b[0m                                 Traceback (most recent call last)",
      "Cell \u001b[1;32mIn[32], line 1\u001b[0m\n\u001b[1;32m----> 1\u001b[0m \u001b[43mmongo\u001b[49m\u001b[38;5;241;43m.\u001b[39;49m\u001b[43minsert_record\u001b[49m\u001b[43m(\u001b[49m\u001b[43mcollection_name\u001b[49m\u001b[43m,\u001b[49m\u001b[43m \u001b[49m\u001b[43m{\u001b[49m\u001b[38;5;124;43m\"\u001b[39;49m\u001b[38;5;124;43mname\u001b[39;49m\u001b[38;5;124;43m\"\u001b[39;49m\u001b[43m:\u001b[49m\u001b[43m \u001b[49m\u001b[38;5;124;43m\"\u001b[39;49m\u001b[38;5;124;43mJohn\u001b[39;49m\u001b[38;5;124;43m\"\u001b[39;49m\u001b[43m,\u001b[49m\u001b[43m \u001b[49m\u001b[38;5;124;43m\"\u001b[39;49m\u001b[38;5;124;43mage\u001b[39;49m\u001b[38;5;124;43m\"\u001b[39;49m\u001b[43m:\u001b[49m\u001b[43m \u001b[49m\u001b[38;5;241;43m55\u001b[39;49m\u001b[43m,\u001b[49m\u001b[43m \u001b[49m\u001b[38;5;124;43m\"\u001b[39;49m\u001b[38;5;124;43mcity\u001b[39;49m\u001b[38;5;124;43m\"\u001b[39;49m\u001b[43m:\u001b[49m\u001b[43m \u001b[49m\u001b[38;5;124;43m\"\u001b[39;49m\u001b[38;5;124;43mNY\u001b[39;49m\u001b[38;5;124;43m\"\u001b[39;49m\u001b[43m}\u001b[49m\u001b[43m)\u001b[49m\n",
      "Cell \u001b[1;32mIn[28], line 34\u001b[0m, in \u001b[0;36mmongo_crud_operations.insert_record\u001b[1;34m(self, collection_name, data)\u001b[0m\n\u001b[0;32m     31\u001b[0m     collection\u001b[38;5;241m.\u001b[39minsert_many(data)\n\u001b[0;32m     33\u001b[0m \u001b[38;5;28;01melif\u001b[39;00m \u001b[38;5;28mtype\u001b[39m(data) \u001b[38;5;241m==\u001b[39m \u001b[38;5;28mdict\u001b[39m:\n\u001b[1;32m---> 34\u001b[0m     collection \u001b[38;5;241m=\u001b[39m \u001b[38;5;28;43mself\u001b[39;49m\u001b[38;5;241;43m.\u001b[39;49m\u001b[43mcreate_collection\u001b[49m\u001b[43m(\u001b[49m\u001b[43mcollection_name\u001b[49m\u001b[43m)\u001b[49m\n\u001b[0;32m     35\u001b[0m     collection\u001b[38;5;241m.\u001b[39minsert_one(data)\n\u001b[0;32m     37\u001b[0m \u001b[38;5;28;01melse\u001b[39;00m:\n",
      "\u001b[1;31mTypeError\u001b[0m: mongo_crud_operations.create_collection() takes 1 positional argument but 2 were given"
     ]
    }
   ],
   "source": [
    "mongo.insert_record(collection_name, {\"name\": \"John\", \"age\": 55, \"city\": \"NY\"})"
   ]
  },
  {
   "cell_type": "code",
   "execution_count": null,
   "metadata": {},
   "outputs": [],
   "source": []
  }
 ],
 "metadata": {
  "kernelspec": {
   "display_name": "Python 3",
   "language": "python",
   "name": "python3"
  },
  "language_info": {
   "codemirror_mode": {
    "name": "ipython",
    "version": 3
   },
   "file_extension": ".py",
   "mimetype": "text/x-python",
   "name": "python",
   "nbconvert_exporter": "python",
   "pygments_lexer": "ipython3",
   "version": "3.11.1"
  }
 },
 "nbformat": 4,
 "nbformat_minor": 2
}
